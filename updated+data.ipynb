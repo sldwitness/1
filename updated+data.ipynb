{
 "cells": [
  {
   "cell_type": "code",
   "execution_count": null,
   "metadata": {
    "collapsed": true
   },
   "outputs": [],
   "source": [
    "'''\n",
    "Author: Sriram Yarlagadda + George Nakhleh\n",
    "Date Created: 9/12/2016\n",
    "Note: Please use Python 2.7\n",
    "'''\n",
    "import os\n",
    "import numpy as np\n",
    "import pandas as pd\n",
    "import matplotlib.pyplot as plt\n",
    "from statsmodels.stats import proportion\n",
    "from scipy import stats\n",
    "%matplotlib inline\n",
    "os.chdir('/Users/gangliu/Desktop/project wyc')#location in Mac"
   ]
  },
  {
   "cell_type": "markdown",
   "metadata": {},
   "source": [
    "varLst = ['CLAM', 'ACDF', 'LOS', 'SHORT', 'LONG', 'ALIF', 'PLIF', 'COMBINED','ileus_NPOA','SHORT_ILEUS', \\\n",
    "          'LONG_ILEUS', 'ALIF_ILEUS', 'PLIF_ILEUS', 'DIED','MI_NPOA','Sepsis_NPOA','PE_NPOA',\\\n",
    "          'COMBINED_SHORT', 'COMBINED_LONG', 'COMBINED_ILEUS', 'COMBINED_SHORT_ILEUS','COMBINED_LONG_ILEUS',\\\n",
    "          'ACDF_ILEUS','CLAM_ILEUS']\n",
    "CAData = pd.read_stata('SPINE_ILEUS_CA_REVISED.dta', columns=varLst)"
   ]
  },
  {
   "cell_type": "code",
   "execution_count": 33,
   "metadata": {
    "collapsed": false
   },
   "outputs": [
    {
     "data": {
      "text/html": [
       "<div>\n",
       "<table border=\"1\" class=\"dataframe\">\n",
       "  <thead>\n",
       "    <tr style=\"text-align: right;\">\n",
       "      <th></th>\n",
       "      <th>CLAM</th>\n",
       "      <th>ACDF</th>\n",
       "      <th>LOS</th>\n",
       "      <th>SHORT</th>\n",
       "      <th>LONG</th>\n",
       "      <th>ALIF</th>\n",
       "      <th>PLIF</th>\n",
       "      <th>COMBINED</th>\n",
       "      <th>ileus_NPOA</th>\n",
       "      <th>SHORT_ILEUS</th>\n",
       "      <th>...</th>\n",
       "      <th>MI_NPOA</th>\n",
       "      <th>Sepsis_NPOA</th>\n",
       "      <th>PE_NPOA</th>\n",
       "      <th>COMBINED_SHORT</th>\n",
       "      <th>COMBINED_LONG</th>\n",
       "      <th>COMBINED_ILEUS</th>\n",
       "      <th>COMBINED_SHORT_ILEUS</th>\n",
       "      <th>COMBINED_LONG_ILEUS</th>\n",
       "      <th>ACDF_ILEUS</th>\n",
       "      <th>CLAM_ILEUS</th>\n",
       "    </tr>\n",
       "  </thead>\n",
       "  <tbody>\n",
       "    <tr>\n",
       "      <th>count</th>\n",
       "      <td>345067.000000</td>\n",
       "      <td>345067.000000</td>\n",
       "      <td>345010.000000</td>\n",
       "      <td>345067.000000</td>\n",
       "      <td>345067.000000</td>\n",
       "      <td>345067.000000</td>\n",
       "      <td>345067.000000</td>\n",
       "      <td>345067.000000</td>\n",
       "      <td>345067.000000</td>\n",
       "      <td>345067.000000</td>\n",
       "      <td>...</td>\n",
       "      <td>345067.000000</td>\n",
       "      <td>345067.000000</td>\n",
       "      <td>345067.0</td>\n",
       "      <td>345067.000000</td>\n",
       "      <td>345067.000000</td>\n",
       "      <td>345067.000000</td>\n",
       "      <td>345067.000000</td>\n",
       "      <td>345067.000000</td>\n",
       "      <td>345067.000000</td>\n",
       "      <td>345067.000000</td>\n",
       "    </tr>\n",
       "    <tr>\n",
       "      <th>mean</th>\n",
       "      <td>0.043823</td>\n",
       "      <td>0.195733</td>\n",
       "      <td>7.709695</td>\n",
       "      <td>0.459282</td>\n",
       "      <td>0.121730</td>\n",
       "      <td>0.084940</td>\n",
       "      <td>0.061374</td>\n",
       "      <td>0.010923</td>\n",
       "      <td>0.443998</td>\n",
       "      <td>0.010975</td>\n",
       "      <td>...</td>\n",
       "      <td>0.008416</td>\n",
       "      <td>0.044522</td>\n",
       "      <td>0.0</td>\n",
       "      <td>0.074049</td>\n",
       "      <td>0.014551</td>\n",
       "      <td>0.001078</td>\n",
       "      <td>0.005373</td>\n",
       "      <td>0.001837</td>\n",
       "      <td>0.000606</td>\n",
       "      <td>0.000484</td>\n",
       "    </tr>\n",
       "    <tr>\n",
       "      <th>std</th>\n",
       "      <td>0.204741</td>\n",
       "      <td>0.397012</td>\n",
       "      <td>79.797306</td>\n",
       "      <td>0.498372</td>\n",
       "      <td>0.327466</td>\n",
       "      <td>0.279424</td>\n",
       "      <td>0.240172</td>\n",
       "      <td>0.103546</td>\n",
       "      <td>0.496490</td>\n",
       "      <td>0.103827</td>\n",
       "      <td>...</td>\n",
       "      <td>0.091449</td>\n",
       "      <td>0.206195</td>\n",
       "      <td>0.0</td>\n",
       "      <td>0.262318</td>\n",
       "      <td>0.119164</td>\n",
       "      <td>0.032803</td>\n",
       "      <td>0.072964</td>\n",
       "      <td>0.042796</td>\n",
       "      <td>0.024598</td>\n",
       "      <td>0.021989</td>\n",
       "    </tr>\n",
       "    <tr>\n",
       "      <th>min</th>\n",
       "      <td>0.000000</td>\n",
       "      <td>0.000000</td>\n",
       "      <td>-6666.000000</td>\n",
       "      <td>0.000000</td>\n",
       "      <td>0.000000</td>\n",
       "      <td>0.000000</td>\n",
       "      <td>0.000000</td>\n",
       "      <td>0.000000</td>\n",
       "      <td>0.000000</td>\n",
       "      <td>0.000000</td>\n",
       "      <td>...</td>\n",
       "      <td>0.000000</td>\n",
       "      <td>0.000000</td>\n",
       "      <td>0.0</td>\n",
       "      <td>0.000000</td>\n",
       "      <td>0.000000</td>\n",
       "      <td>0.000000</td>\n",
       "      <td>0.000000</td>\n",
       "      <td>0.000000</td>\n",
       "      <td>0.000000</td>\n",
       "      <td>0.000000</td>\n",
       "    </tr>\n",
       "    <tr>\n",
       "      <th>25%</th>\n",
       "      <td>0.000000</td>\n",
       "      <td>0.000000</td>\n",
       "      <td>3.000000</td>\n",
       "      <td>0.000000</td>\n",
       "      <td>0.000000</td>\n",
       "      <td>0.000000</td>\n",
       "      <td>0.000000</td>\n",
       "      <td>0.000000</td>\n",
       "      <td>0.000000</td>\n",
       "      <td>0.000000</td>\n",
       "      <td>...</td>\n",
       "      <td>0.000000</td>\n",
       "      <td>0.000000</td>\n",
       "      <td>0.0</td>\n",
       "      <td>0.000000</td>\n",
       "      <td>0.000000</td>\n",
       "      <td>0.000000</td>\n",
       "      <td>0.000000</td>\n",
       "      <td>0.000000</td>\n",
       "      <td>0.000000</td>\n",
       "      <td>0.000000</td>\n",
       "    </tr>\n",
       "    <tr>\n",
       "      <th>50%</th>\n",
       "      <td>0.000000</td>\n",
       "      <td>0.000000</td>\n",
       "      <td>5.000000</td>\n",
       "      <td>0.000000</td>\n",
       "      <td>0.000000</td>\n",
       "      <td>0.000000</td>\n",
       "      <td>0.000000</td>\n",
       "      <td>0.000000</td>\n",
       "      <td>0.000000</td>\n",
       "      <td>0.000000</td>\n",
       "      <td>...</td>\n",
       "      <td>0.000000</td>\n",
       "      <td>0.000000</td>\n",
       "      <td>0.0</td>\n",
       "      <td>0.000000</td>\n",
       "      <td>0.000000</td>\n",
       "      <td>0.000000</td>\n",
       "      <td>0.000000</td>\n",
       "      <td>0.000000</td>\n",
       "      <td>0.000000</td>\n",
       "      <td>0.000000</td>\n",
       "    </tr>\n",
       "    <tr>\n",
       "      <th>75%</th>\n",
       "      <td>0.000000</td>\n",
       "      <td>0.000000</td>\n",
       "      <td>9.000000</td>\n",
       "      <td>1.000000</td>\n",
       "      <td>0.000000</td>\n",
       "      <td>0.000000</td>\n",
       "      <td>0.000000</td>\n",
       "      <td>0.000000</td>\n",
       "      <td>1.000000</td>\n",
       "      <td>0.000000</td>\n",
       "      <td>...</td>\n",
       "      <td>0.000000</td>\n",
       "      <td>0.000000</td>\n",
       "      <td>0.0</td>\n",
       "      <td>0.000000</td>\n",
       "      <td>0.000000</td>\n",
       "      <td>0.000000</td>\n",
       "      <td>0.000000</td>\n",
       "      <td>0.000000</td>\n",
       "      <td>0.000000</td>\n",
       "      <td>0.000000</td>\n",
       "    </tr>\n",
       "    <tr>\n",
       "      <th>max</th>\n",
       "      <td>1.000000</td>\n",
       "      <td>1.000000</td>\n",
       "      <td>358.000000</td>\n",
       "      <td>1.000000</td>\n",
       "      <td>1.000000</td>\n",
       "      <td>1.000000</td>\n",
       "      <td>1.000000</td>\n",
       "      <td>1.000000</td>\n",
       "      <td>1.000000</td>\n",
       "      <td>1.000000</td>\n",
       "      <td>...</td>\n",
       "      <td>1.000000</td>\n",
       "      <td>1.000000</td>\n",
       "      <td>0.0</td>\n",
       "      <td>1.000000</td>\n",
       "      <td>1.000000</td>\n",
       "      <td>1.000000</td>\n",
       "      <td>1.000000</td>\n",
       "      <td>1.000000</td>\n",
       "      <td>1.000000</td>\n",
       "      <td>1.000000</td>\n",
       "    </tr>\n",
       "  </tbody>\n",
       "</table>\n",
       "<p>8 rows × 24 columns</p>\n",
       "</div>"
      ],
      "text/plain": [
       "                CLAM           ACDF            LOS          SHORT  \\\n",
       "count  345067.000000  345067.000000  345010.000000  345067.000000   \n",
       "mean        0.043823       0.195733       7.709695       0.459282   \n",
       "std         0.204741       0.397012      79.797306       0.498372   \n",
       "min         0.000000       0.000000   -6666.000000       0.000000   \n",
       "25%         0.000000       0.000000       3.000000       0.000000   \n",
       "50%         0.000000       0.000000       5.000000       0.000000   \n",
       "75%         0.000000       0.000000       9.000000       1.000000   \n",
       "max         1.000000       1.000000     358.000000       1.000000   \n",
       "\n",
       "                LONG           ALIF           PLIF       COMBINED  \\\n",
       "count  345067.000000  345067.000000  345067.000000  345067.000000   \n",
       "mean        0.121730       0.084940       0.061374       0.010923   \n",
       "std         0.327466       0.279424       0.240172       0.103546   \n",
       "min         0.000000       0.000000       0.000000       0.000000   \n",
       "25%         0.000000       0.000000       0.000000       0.000000   \n",
       "50%         0.000000       0.000000       0.000000       0.000000   \n",
       "75%         0.000000       0.000000       0.000000       0.000000   \n",
       "max         1.000000       1.000000       1.000000       1.000000   \n",
       "\n",
       "          ileus_NPOA    SHORT_ILEUS      ...              MI_NPOA  \\\n",
       "count  345067.000000  345067.000000      ...        345067.000000   \n",
       "mean        0.443998       0.010975      ...             0.008416   \n",
       "std         0.496490       0.103827      ...             0.091449   \n",
       "min         0.000000       0.000000      ...             0.000000   \n",
       "25%         0.000000       0.000000      ...             0.000000   \n",
       "50%         0.000000       0.000000      ...             0.000000   \n",
       "75%         1.000000       0.000000      ...             0.000000   \n",
       "max         1.000000       1.000000      ...             1.000000   \n",
       "\n",
       "         Sepsis_NPOA   PE_NPOA  COMBINED_SHORT  COMBINED_LONG  COMBINED_ILEUS  \\\n",
       "count  345067.000000  345067.0   345067.000000  345067.000000   345067.000000   \n",
       "mean        0.044522       0.0        0.074049       0.014551        0.001078   \n",
       "std         0.206195       0.0        0.262318       0.119164        0.032803   \n",
       "min         0.000000       0.0        0.000000       0.000000        0.000000   \n",
       "25%         0.000000       0.0        0.000000       0.000000        0.000000   \n",
       "50%         0.000000       0.0        0.000000       0.000000        0.000000   \n",
       "75%         0.000000       0.0        0.000000       0.000000        0.000000   \n",
       "max         1.000000       0.0        1.000000       1.000000        1.000000   \n",
       "\n",
       "       COMBINED_SHORT_ILEUS  COMBINED_LONG_ILEUS     ACDF_ILEUS     CLAM_ILEUS  \n",
       "count         345067.000000        345067.000000  345067.000000  345067.000000  \n",
       "mean               0.005373             0.001837       0.000606       0.000484  \n",
       "std                0.072964             0.042796       0.024598       0.021989  \n",
       "min                0.000000             0.000000       0.000000       0.000000  \n",
       "25%                0.000000             0.000000       0.000000       0.000000  \n",
       "50%                0.000000             0.000000       0.000000       0.000000  \n",
       "75%                0.000000             0.000000       0.000000       0.000000  \n",
       "max                1.000000             1.000000       1.000000       1.000000  \n",
       "\n",
       "[8 rows x 24 columns]"
      ]
     },
     "execution_count": 33,
     "metadata": {},
     "output_type": "execute_result"
    }
   ],
   "source": [
    "CAData.describe()"
   ]
  },
  {
   "cell_type": "code",
   "execution_count": 50,
   "metadata": {
    "collapsed": false
   },
   "outputs": [
    {
     "data": {
      "text/plain": [
       "308119"
      ]
     },
     "execution_count": 50,
     "metadata": {},
     "output_type": "execute_result"
    }
   ],
   "source": [
    "len(CAData.ACDF)\n",
    "    "
   ]
  },
  {
   "cell_type": "markdown",
   "metadata": {
    "collapsed": true
   },
   "source": [
    "##### for i in range len(CAData):\n",
    "#   if CAData.CLAM"
   ]
  },
  {
   "cell_type": "code",
   "execution_count": 35,
   "metadata": {
    "collapsed": false
   },
   "outputs": [
    {
     "data": {
      "text/plain": [
       "array([ 0,  0, 48,  0,  0,  0,  0,  0,  0,  0,  0,  0,  0, 19,  0,  0,  0,\n",
       "        0,  0,  0,  0,  0,  0,  0])"
      ]
     },
     "execution_count": 35,
     "metadata": {},
     "output_type": "execute_result"
    }
   ],
   "source": [
    "np.sum(np.array(CAData < 0), 0)"
   ]
  },
  {
   "cell_type": "code",
   "execution_count": 36,
   "metadata": {
    "collapsed": false
   },
   "outputs": [
    {
     "data": {
      "text/plain": [
       "array([ 0,  0, 57,  0,  0,  0,  0,  0,  0,  0,  0,  0,  0, 22,  0,  0,  0,\n",
       "        0,  0,  0,  0,  0,  0,  0])"
      ]
     },
     "execution_count": 36,
     "metadata": {},
     "output_type": "execute_result"
    }
   ],
   "source": [
    "np.sum(np.array(pd.isnull(CAData)),0)"
   ]
  },
  {
   "cell_type": "code",
   "execution_count": 37,
   "metadata": {
    "collapsed": false
   },
   "outputs": [
    {
     "data": {
      "text/plain": [
       "36850"
      ]
     },
     "execution_count": 37,
     "metadata": {},
     "output_type": "execute_result"
    }
   ],
   "source": [
    "np.sum(np.array(CAData.LOS <= 1), 0)"
   ]
  },
  {
   "cell_type": "code",
   "execution_count": 38,
   "metadata": {
    "collapsed": true
   },
   "outputs": [],
   "source": [
    "for feature in CAData.columns: \n",
    "    CAData = CAData[CAData[feature] >= 0]\n",
    "    if feature == 'LOS':\n",
    "        CAData = CAData[CAData.LOS >= 2]#去掉 LOS 小于1的"
   ]
  },
  {
   "cell_type": "code",
   "execution_count": 39,
   "metadata": {
    "collapsed": false
   },
   "outputs": [
    {
     "data": {
      "text/plain": [
       "(308119, 24)"
      ]
     },
     "execution_count": 39,
     "metadata": {},
     "output_type": "execute_result"
    }
   ],
   "source": [
    "CAData.shape"
   ]
  },
  {
   "cell_type": "code",
   "execution_count": 40,
   "metadata": {
    "collapsed": false
   },
   "outputs": [
    {
     "data": {
      "text/html": [
       "<div>\n",
       "<table border=\"1\" class=\"dataframe\">\n",
       "  <thead>\n",
       "    <tr style=\"text-align: right;\">\n",
       "      <th>MI_NPOA</th>\n",
       "      <th>0.0</th>\n",
       "      <th>1.0</th>\n",
       "    </tr>\n",
       "    <tr>\n",
       "      <th>ACDF_ILEUS</th>\n",
       "      <th></th>\n",
       "      <th></th>\n",
       "    </tr>\n",
       "  </thead>\n",
       "  <tbody>\n",
       "    <tr>\n",
       "      <th>0.0</th>\n",
       "      <td>305052</td>\n",
       "      <td>2862</td>\n",
       "    </tr>\n",
       "    <tr>\n",
       "      <th>1.0</th>\n",
       "      <td>203</td>\n",
       "      <td>2</td>\n",
       "    </tr>\n",
       "  </tbody>\n",
       "</table>\n",
       "</div>"
      ],
      "text/plain": [
       "MI_NPOA        0.0   1.0\n",
       "ACDF_ILEUS              \n",
       "0.0         305052  2862\n",
       "1.0            203     2"
      ]
     },
     "execution_count": 40,
     "metadata": {},
     "output_type": "execute_result"
    }
   ],
   "source": [
    "ct_PvA = pd.crosstab(CAData.ACDF_ILEUS, CAData.MI_NPOA); ct_PvA"
   ]
  },
  {
   "cell_type": "code",
   "execution_count": 41,
   "metadata": {
    "collapsed": false
   },
   "outputs": [
    {
     "data": {
      "text/html": [
       "<div>\n",
       "<table border=\"1\" class=\"dataframe\">\n",
       "  <thead>\n",
       "    <tr style=\"text-align: right;\">\n",
       "      <th>MI_NPOA</th>\n",
       "      <th>0.0</th>\n",
       "      <th>1.0</th>\n",
       "    </tr>\n",
       "    <tr>\n",
       "      <th>ACDF_ILEUS</th>\n",
       "      <th></th>\n",
       "      <th></th>\n",
       "    </tr>\n",
       "  </thead>\n",
       "  <tbody>\n",
       "    <tr>\n",
       "      <th>0.0</th>\n",
       "      <td>0.999335</td>\n",
       "      <td>0.999302</td>\n",
       "    </tr>\n",
       "    <tr>\n",
       "      <th>1.0</th>\n",
       "      <td>0.000665</td>\n",
       "      <td>0.000698</td>\n",
       "    </tr>\n",
       "  </tbody>\n",
       "</table>\n",
       "</div>"
      ],
      "text/plain": [
       "MI_NPOA          0.0       1.0\n",
       "ACDF_ILEUS                    \n",
       "0.0         0.999335  0.999302\n",
       "1.0         0.000665  0.000698"
      ]
     },
     "execution_count": 41,
     "metadata": {},
     "output_type": "execute_result"
    }
   ],
   "source": [
    "pd.crosstab(CAData.ACDF_ILEUS, CAData.MI_NPOA).apply(lambda x: x/x.sum(), 0)"
   ]
  },
  {
   "cell_type": "code",
   "execution_count": 42,
   "metadata": {
    "collapsed": false
   },
   "outputs": [
    {
     "name": "stdout",
     "output_type": "stream",
     "text": [
      "Odds ratio: 1.05011824726\n"
     ]
    }
   ],
   "source": [
    "print ('Odds ratio:', stats.fisher_exact(ct_PvA)[0])"
   ]
  },
  {
   "cell_type": "code",
   "execution_count": 44,
   "metadata": {
    "collapsed": false
   },
   "outputs": [
    {
     "data": {
      "text/html": [
       "<div>\n",
       "<table border=\"1\" class=\"dataframe\">\n",
       "  <thead>\n",
       "    <tr style=\"text-align: right;\">\n",
       "      <th>MI_NPOA</th>\n",
       "      <th>0.0</th>\n",
       "      <th>1.0</th>\n",
       "    </tr>\n",
       "    <tr>\n",
       "      <th>CLAM_ILEUS</th>\n",
       "      <th></th>\n",
       "      <th></th>\n",
       "    </tr>\n",
       "  </thead>\n",
       "  <tbody>\n",
       "    <tr>\n",
       "      <th>0.0</th>\n",
       "      <td>305091</td>\n",
       "      <td>2861</td>\n",
       "    </tr>\n",
       "    <tr>\n",
       "      <th>1.0</th>\n",
       "      <td>164</td>\n",
       "      <td>3</td>\n",
       "    </tr>\n",
       "  </tbody>\n",
       "</table>\n",
       "</div>"
      ],
      "text/plain": [
       "MI_NPOA        0.0   1.0\n",
       "CLAM_ILEUS              \n",
       "0.0         305091  2861\n",
       "1.0            164     3"
      ]
     },
     "execution_count": 44,
     "metadata": {},
     "output_type": "execute_result"
    }
   ],
   "source": [
    "ct_Pvb = pd.crosstab(CAData.CLAM_ILEUS, CAData.MI_NPOA); ct_Pvb"
   ]
  },
  {
   "cell_type": "code",
   "execution_count": 45,
   "metadata": {
    "collapsed": false
   },
   "outputs": [
    {
     "name": "stdout",
     "output_type": "stream",
     "text": [
      "Odds ratio: 1.95069308872\n"
     ]
    }
   ],
   "source": [
    "print ('Odds ratio:', stats.fisher_exact(ct_Pvb)[0])"
   ]
  },
  {
   "cell_type": "code",
   "execution_count": 122,
   "metadata": {
    "collapsed": false
   },
   "outputs": [
    {
     "data": {
      "text/plain": [
       "(48605, 24)"
      ]
     },
     "execution_count": 122,
     "metadata": {},
     "output_type": "execute_result"
    }
   ],
   "source": [
    "CADataSub = CAData[(CAData.ACDF+ CAData.CLAM) >=1]; CADataSub.shape"
   ]
  },
  {
   "cell_type": "code",
   "execution_count": 171,
   "metadata": {
    "collapsed": false
   },
   "outputs": [],
   "source": [
    "def g(x, y):\n",
    "    return (x + y)//2"
   ]
  },
  {
   "cell_type": "code",
   "execution_count": 172,
   "metadata": {
    "collapsed": false
   },
   "outputs": [],
   "source": [
    "CAData.Combin = g(CAData.ACDF, CAData.CLAM)"
   ]
  },
  {
   "cell_type": "code",
   "execution_count": 173,
   "metadata": {
    "collapsed": false
   },
   "outputs": [
    {
     "data": {
      "text/html": [
       "<div>\n",
       "<table border=\"1\" class=\"dataframe\">\n",
       "  <thead>\n",
       "    <tr style=\"text-align: right;\">\n",
       "      <th>col_0</th>\n",
       "      <th>0.0</th>\n",
       "      <th>1.0</th>\n",
       "    </tr>\n",
       "    <tr>\n",
       "      <th>MI_NPOA</th>\n",
       "      <th></th>\n",
       "      <th></th>\n",
       "    </tr>\n",
       "  </thead>\n",
       "  <tbody>\n",
       "    <tr>\n",
       "      <th>0.0</th>\n",
       "      <td>301647</td>\n",
       "      <td>3608</td>\n",
       "    </tr>\n",
       "    <tr>\n",
       "      <th>1.0</th>\n",
       "      <td>2840</td>\n",
       "      <td>24</td>\n",
       "    </tr>\n",
       "  </tbody>\n",
       "</table>\n",
       "</div>"
      ],
      "text/plain": [
       "col_0       0.0   1.0\n",
       "MI_NPOA              \n",
       "0.0      301647  3608\n",
       "1.0        2840    24"
      ]
     },
     "execution_count": 173,
     "metadata": {},
     "output_type": "execute_result"
    }
   ],
   "source": [
    "ct_PvA = pd.crosstab(CAData.MI_NPOA, CAData.Combin); ct_PvA"
   ]
  },
  {
   "cell_type": "code",
   "execution_count": 174,
   "metadata": {
    "collapsed": false
   },
   "outputs": [
    {
     "name": "stdout",
     "output_type": "stream",
     "text": [
      "Odds ratio: 0.706521501515\n"
     ]
    }
   ],
   "source": [
    "print ('Odds ratio:', stats.fisher_exact(ct_PvA)[0])"
   ]
  },
  {
   "cell_type": "code",
   "execution_count": null,
   "metadata": {
    "collapsed": true
   },
   "outputs": [],
   "source": []
  }
 ],
 "metadata": {
  "kernelspec": {
   "display_name": "Python 3",
   "language": "python",
   "name": "python3"
  }
 },
 "nbformat": 4,
 "nbformat_minor": 2
}
